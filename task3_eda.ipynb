{
 "cells": [
  {
   "cell_type": "code",
   "execution_count": 2,
   "id": "f75ef226",
   "metadata": {},
   "outputs": [],
   "source": [
    "import pandas as pd\n",
    "import matplotlib"
   ]
  },
  {
   "cell_type": "code",
   "execution_count": 3,
   "id": "6910fa07",
   "metadata": {},
   "outputs": [
    {
     "name": "stdout",
     "output_type": "stream",
     "text": [
      "1382727\n"
     ]
    },
    {
     "data": {
      "text/html": [
       "<div>\n",
       "<style scoped>\n",
       "    .dataframe tbody tr th:only-of-type {\n",
       "        vertical-align: middle;\n",
       "    }\n",
       "\n",
       "    .dataframe tbody tr th {\n",
       "        vertical-align: top;\n",
       "    }\n",
       "\n",
       "    .dataframe thead th {\n",
       "        text-align: right;\n",
       "    }\n",
       "</style>\n",
       "<table border=\"1\" class=\"dataframe\">\n",
       "  <thead>\n",
       "    <tr style=\"text-align: right;\">\n",
       "      <th></th>\n",
       "      <th>QuestionId</th>\n",
       "      <th>UserId</th>\n",
       "      <th>AnswerId</th>\n",
       "      <th>IsCorrect</th>\n",
       "      <th>CorrectAnswer</th>\n",
       "      <th>AnswerValue</th>\n",
       "    </tr>\n",
       "  </thead>\n",
       "  <tbody>\n",
       "    <tr>\n",
       "      <th>0</th>\n",
       "      <td>898</td>\n",
       "      <td>2111</td>\n",
       "      <td>280203</td>\n",
       "      <td>1</td>\n",
       "      <td>2</td>\n",
       "      <td>2</td>\n",
       "    </tr>\n",
       "    <tr>\n",
       "      <th>1</th>\n",
       "      <td>767</td>\n",
       "      <td>3062</td>\n",
       "      <td>55638</td>\n",
       "      <td>1</td>\n",
       "      <td>3</td>\n",
       "      <td>3</td>\n",
       "    </tr>\n",
       "    <tr>\n",
       "      <th>2</th>\n",
       "      <td>165</td>\n",
       "      <td>1156</td>\n",
       "      <td>386475</td>\n",
       "      <td>1</td>\n",
       "      <td>2</td>\n",
       "      <td>2</td>\n",
       "    </tr>\n",
       "    <tr>\n",
       "      <th>3</th>\n",
       "      <td>490</td>\n",
       "      <td>1653</td>\n",
       "      <td>997498</td>\n",
       "      <td>1</td>\n",
       "      <td>4</td>\n",
       "      <td>4</td>\n",
       "    </tr>\n",
       "    <tr>\n",
       "      <th>4</th>\n",
       "      <td>298</td>\n",
       "      <td>3912</td>\n",
       "      <td>578636</td>\n",
       "      <td>1</td>\n",
       "      <td>3</td>\n",
       "      <td>3</td>\n",
       "    </tr>\n",
       "  </tbody>\n",
       "</table>\n",
       "</div>"
      ],
      "text/plain": [
       "   QuestionId  UserId  AnswerId  IsCorrect  CorrectAnswer  AnswerValue\n",
       "0         898    2111    280203          1              2            2\n",
       "1         767    3062     55638          1              3            3\n",
       "2         165    1156    386475          1              2            2\n",
       "3         490    1653    997498          1              4            4\n",
       "4         298    3912    578636          1              3            3"
      ]
     },
     "execution_count": 3,
     "metadata": {},
     "output_type": "execute_result"
    }
   ],
   "source": [
    "data = pd.read_csv('data/train_data/train_task_3_4.csv')\n",
    "print(len(data))\n",
    "data.head()"
   ]
  },
  {
   "cell_type": "code",
   "execution_count": 4,
   "id": "ac99ab82",
   "metadata": {},
   "outputs": [
    {
     "name": "stdout",
     "output_type": "stream",
     "text": [
      "0 2812 0.44345661450924606 0.00937010933612387\n",
      "1 14 0.5714285714285714 0.13725270326150324\n",
      "2 2313 0.3852140077821012 0.01012089927190456\n",
      "3 2672 0.8087574850299402 0.007609645680958906\n",
      "4 1704 0.4014084507042254 0.011878216105763999\n"
     ]
    }
   ],
   "source": [
    "# calc percent of correct for each question\n",
    "correct_ratio=[]\n",
    "for k,df in data.groupby('QuestionId'):\n",
    "    correct_ratio.append((k, len(df), df['IsCorrect'].mean(), df['IsCorrect'].sem()))\n",
    "for k,cnt,ratio,stdm in correct_ratio[:5]:\n",
    "    print(k,cnt,ratio,stdm)"
   ]
  },
  {
   "cell_type": "code",
   "execution_count": 6,
   "id": "59a5966d",
   "metadata": {},
   "outputs": [],
   "source": [
    "#TODO\n"
   ]
  },
  {
   "cell_type": "code",
   "execution_count": 7,
   "id": "5852ff5e",
   "metadata": {},
   "outputs": [
    {
     "name": "stdout",
     "output_type": "stream",
     "text": [
      "25\n"
     ]
    },
    {
     "data": {
      "text/html": [
       "<div>\n",
       "<style scoped>\n",
       "    .dataframe tbody tr th:only-of-type {\n",
       "        vertical-align: middle;\n",
       "    }\n",
       "\n",
       "    .dataframe tbody tr th {\n",
       "        vertical-align: top;\n",
       "    }\n",
       "\n",
       "    .dataframe thead th {\n",
       "        text-align: right;\n",
       "    }\n",
       "</style>\n",
       "<table border=\"1\" class=\"dataframe\">\n",
       "  <thead>\n",
       "    <tr style=\"text-align: right;\">\n",
       "      <th></th>\n",
       "      <th>Unnamed: 0.1</th>\n",
       "      <th>Unnamed: 0</th>\n",
       "      <th>left</th>\n",
       "      <th>right</th>\n",
       "      <th>T1_ALR</th>\n",
       "      <th>T2_CL</th>\n",
       "      <th>T3_GF</th>\n",
       "      <th>T4_MQ</th>\n",
       "      <th>T5_NS</th>\n",
       "    </tr>\n",
       "  </thead>\n",
       "  <tbody>\n",
       "    <tr>\n",
       "      <th>0</th>\n",
       "      <td>0</td>\n",
       "      <td>0</td>\n",
       "      <td>909</td>\n",
       "      <td>318</td>\n",
       "      <td>2</td>\n",
       "      <td>2</td>\n",
       "      <td>2</td>\n",
       "      <td>1.0</td>\n",
       "      <td>2</td>\n",
       "    </tr>\n",
       "    <tr>\n",
       "      <th>1</th>\n",
       "      <td>16</td>\n",
       "      <td>16</td>\n",
       "      <td>285</td>\n",
       "      <td>609</td>\n",
       "      <td>2</td>\n",
       "      <td>2</td>\n",
       "      <td>2</td>\n",
       "      <td>2.0</td>\n",
       "      <td>2</td>\n",
       "    </tr>\n",
       "    <tr>\n",
       "      <th>2</th>\n",
       "      <td>48</td>\n",
       "      <td>48</td>\n",
       "      <td>132</td>\n",
       "      <td>271</td>\n",
       "      <td>1</td>\n",
       "      <td>2</td>\n",
       "      <td>2</td>\n",
       "      <td>2.0</td>\n",
       "      <td>1</td>\n",
       "    </tr>\n",
       "    <tr>\n",
       "      <th>3</th>\n",
       "      <td>38</td>\n",
       "      <td>38</td>\n",
       "      <td>704</td>\n",
       "      <td>127</td>\n",
       "      <td>2</td>\n",
       "      <td>2</td>\n",
       "      <td>1</td>\n",
       "      <td>2.0</td>\n",
       "      <td>2</td>\n",
       "    </tr>\n",
       "    <tr>\n",
       "      <th>4</th>\n",
       "      <td>33</td>\n",
       "      <td>33</td>\n",
       "      <td>16</td>\n",
       "      <td>586</td>\n",
       "      <td>1</td>\n",
       "      <td>1</td>\n",
       "      <td>2</td>\n",
       "      <td>2.0</td>\n",
       "      <td>2</td>\n",
       "    </tr>\n",
       "  </tbody>\n",
       "</table>\n",
       "</div>"
      ],
      "text/plain": [
       "   Unnamed: 0.1  Unnamed: 0  left  right  T1_ALR  T2_CL  T3_GF  T4_MQ  T5_NS\n",
       "0             0           0   909    318       2      2      2    1.0      2\n",
       "1            16          16   285    609       2      2      2    2.0      2\n",
       "2            48          48   132    271       1      2      2    2.0      1\n",
       "3            38          38   704    127       2      2      1    2.0      2\n",
       "4            33          33    16    586       1      1      2    2.0      2"
      ]
     },
     "execution_count": 7,
     "metadata": {},
     "output_type": "execute_result"
    }
   ],
   "source": [
    "# load evaluators' score on \"validation\" set\n",
    "eval_validation = pd.read_csv('data/test_data/quality_response_remapped_public.csv')\n",
    "print(len(eval_validation))\n",
    "eval_validation.head()"
   ]
  },
  {
   "cell_type": "code",
   "execution_count": 23,
   "id": "26f8c456",
   "metadata": {},
   "outputs": [
    {
     "name": "stdout",
     "output_type": "stream",
     "text": [
      "25\n"
     ]
    },
    {
     "data": {
      "text/html": [
       "<div>\n",
       "<style scoped>\n",
       "    .dataframe tbody tr th:only-of-type {\n",
       "        vertical-align: middle;\n",
       "    }\n",
       "\n",
       "    .dataframe tbody tr th {\n",
       "        vertical-align: top;\n",
       "    }\n",
       "\n",
       "    .dataframe thead th {\n",
       "        text-align: right;\n",
       "    }\n",
       "</style>\n",
       "<table border=\"1\" class=\"dataframe\">\n",
       "  <thead>\n",
       "    <tr style=\"text-align: right;\">\n",
       "      <th></th>\n",
       "      <th>Unnamed: 0.1</th>\n",
       "      <th>Unnamed: 0</th>\n",
       "      <th>left</th>\n",
       "      <th>right</th>\n",
       "      <th>T1_ALR</th>\n",
       "      <th>T2_CL</th>\n",
       "      <th>T3_GF</th>\n",
       "      <th>T4_MQ</th>\n",
       "      <th>T5_NS</th>\n",
       "    </tr>\n",
       "  </thead>\n",
       "  <tbody>\n",
       "    <tr>\n",
       "      <th>0</th>\n",
       "      <td>15</td>\n",
       "      <td>15</td>\n",
       "      <td>145</td>\n",
       "      <td>762</td>\n",
       "      <td>2</td>\n",
       "      <td>2</td>\n",
       "      <td>2</td>\n",
       "      <td>2.0</td>\n",
       "      <td>2</td>\n",
       "    </tr>\n",
       "    <tr>\n",
       "      <th>1</th>\n",
       "      <td>31</td>\n",
       "      <td>31</td>\n",
       "      <td>307</td>\n",
       "      <td>208</td>\n",
       "      <td>1</td>\n",
       "      <td>1</td>\n",
       "      <td>1</td>\n",
       "      <td>2.0</td>\n",
       "      <td>1</td>\n",
       "    </tr>\n",
       "    <tr>\n",
       "      <th>2</th>\n",
       "      <td>25</td>\n",
       "      <td>25</td>\n",
       "      <td>278</td>\n",
       "      <td>195</td>\n",
       "      <td>1</td>\n",
       "      <td>1</td>\n",
       "      <td>1</td>\n",
       "      <td>1.0</td>\n",
       "      <td>1</td>\n",
       "    </tr>\n",
       "    <tr>\n",
       "      <th>3</th>\n",
       "      <td>3</td>\n",
       "      <td>3</td>\n",
       "      <td>13</td>\n",
       "      <td>153</td>\n",
       "      <td>2</td>\n",
       "      <td>2</td>\n",
       "      <td>2</td>\n",
       "      <td>2.0</td>\n",
       "      <td>2</td>\n",
       "    </tr>\n",
       "    <tr>\n",
       "      <th>4</th>\n",
       "      <td>40</td>\n",
       "      <td>40</td>\n",
       "      <td>23</td>\n",
       "      <td>100</td>\n",
       "      <td>2</td>\n",
       "      <td>1</td>\n",
       "      <td>1</td>\n",
       "      <td>1.0</td>\n",
       "      <td>1</td>\n",
       "    </tr>\n",
       "  </tbody>\n",
       "</table>\n",
       "</div>"
      ],
      "text/plain": [
       "   Unnamed: 0.1  Unnamed: 0  left  right  T1_ALR  T2_CL  T3_GF  T4_MQ  T5_NS\n",
       "0            15          15   145    762       2      2      2    2.0      2\n",
       "1            31          31   307    208       1      1      1    2.0      1\n",
       "2            25          25   278    195       1      1      1    1.0      1\n",
       "3             3           3    13    153       2      2      2    2.0      2\n",
       "4            40          40    23    100       2      1      1    1.0      1"
      ]
     },
     "execution_count": 23,
     "metadata": {},
     "output_type": "execute_result"
    }
   ],
   "source": [
    "eval_test = pd.read_csv('data/test_data/quality_response_remapped_private.csv')\n",
    "print(len(eval_test))\n",
    "eval_test.head()"
   ]
  },
  {
   "cell_type": "code",
   "execution_count": 18,
   "id": "46a852cb",
   "metadata": {},
   "outputs": [
    {
     "name": "stdout",
     "output_type": "stream",
     "text": [
      "948\n",
      "   QuestionId  ranking\n",
      "0           0      NaN\n",
      "1           1      NaN\n",
      "2           2      NaN\n",
      "3           3      NaN\n",
      "4           4      NaN\n"
     ]
    },
    {
     "data": {
      "text/html": [
       "<div>\n",
       "<style scoped>\n",
       "    .dataframe tbody tr th:only-of-type {\n",
       "        vertical-align: middle;\n",
       "    }\n",
       "\n",
       "    .dataframe tbody tr th {\n",
       "        vertical-align: top;\n",
       "    }\n",
       "\n",
       "    .dataframe thead th {\n",
       "        text-align: right;\n",
       "    }\n",
       "</style>\n",
       "<table border=\"1\" class=\"dataframe\">\n",
       "  <thead>\n",
       "    <tr style=\"text-align: right;\">\n",
       "      <th></th>\n",
       "      <th>QuestionId</th>\n",
       "      <th>ranking</th>\n",
       "    </tr>\n",
       "  </thead>\n",
       "  <tbody>\n",
       "    <tr>\n",
       "      <th>0</th>\n",
       "      <td>0</td>\n",
       "      <td>1</td>\n",
       "    </tr>\n",
       "    <tr>\n",
       "      <th>1</th>\n",
       "      <td>1</td>\n",
       "      <td>1</td>\n",
       "    </tr>\n",
       "    <tr>\n",
       "      <th>2</th>\n",
       "      <td>2</td>\n",
       "      <td>1</td>\n",
       "    </tr>\n",
       "    <tr>\n",
       "      <th>3</th>\n",
       "      <td>3</td>\n",
       "      <td>1</td>\n",
       "    </tr>\n",
       "    <tr>\n",
       "      <th>4</th>\n",
       "      <td>4</td>\n",
       "      <td>1</td>\n",
       "    </tr>\n",
       "  </tbody>\n",
       "</table>\n",
       "</div>"
      ],
      "text/plain": [
       "   QuestionId  ranking\n",
       "0           0        1\n",
       "1           1        1\n",
       "2           2        1\n",
       "3           3        1\n",
       "4           4        1"
      ]
     },
     "execution_count": 18,
     "metadata": {},
     "output_type": "execute_result"
    }
   ],
   "source": [
    "template = pd.read_csv('submission/template.csv')\n",
    "print(len(template))\n",
    "print(template.head())\n",
    "template['ranking'] = 1\n",
    "template.head()"
   ]
  },
  {
   "cell_type": "code",
   "execution_count": 19,
   "id": "01120d78",
   "metadata": {},
   "outputs": [
    {
     "data": {
      "text/plain": [
       "0.64"
      ]
     },
     "execution_count": 19,
     "metadata": {},
     "output_type": "execute_result"
    }
   ],
   "source": [
    "def evaluate(truth, submission):\n",
    "    QL = list(truth.left)\n",
    "    QR = list(truth.right)\n",
    "    if len(QL) != len(QR):\n",
    "        message = 'left and right lengths are not the same'\n",
    "        exit(message)\n",
    "\n",
    "    submission_preference = []\n",
    "    for idx in range(len(QL)):\n",
    "        rankL = submission[submission.QuestionId==QL[idx]].ranking.values[0]\n",
    "        rankR = submission[submission.QuestionId==QR[idx]].ranking.values[0]\n",
    "        submission_preference.append(1 if rankL<rankR else 2)\n",
    "    return sum(x==y for x,y in zip(truth[\"preference\"],submission_preference))/len(QL)\n",
    "\n",
    "max([\n",
    "    evaluate(eval_validation.rename(columns={\"T1_ALR\":\"preference\"})[[\"left\",\"right\",\"preference\"]], template),\n",
    "    evaluate(eval_validation.rename(columns={\"T2_CL\":\"preference\"})[[\"left\",\"right\",\"preference\"]], template),\n",
    "    evaluate(eval_validation.rename(columns={\"T3_GF\":\"preference\"})[[\"left\",\"right\",\"preference\"]], template),\n",
    "    evaluate(eval_validation.rename(columns={\"T4_MQ\":\"preference\"})[[\"left\",\"right\",\"preference\"]], template),\n",
    "    evaluate(eval_validation.rename(columns={\"T5_NS\":\"preference\"})[[\"left\",\"right\",\"preference\"]], template)])"
   ]
  },
  {
   "cell_type": "code",
   "execution_count": 20,
   "id": "bab97669",
   "metadata": {},
   "outputs": [
    {
     "data": {
      "text/plain": [
       "0.52"
      ]
     },
     "execution_count": 20,
     "metadata": {},
     "output_type": "execute_result"
    }
   ],
   "source": [
    "max([\n",
    "    evaluate(eval_test.rename(columns={\"T1_ALR\":\"preference\"})[[\"left\",\"right\",\"preference\"]], template),\n",
    "    evaluate(eval_test.rename(columns={\"T2_CL\":\"preference\"})[[\"left\",\"right\",\"preference\"]], template),\n",
    "    evaluate(eval_test.rename(columns={\"T3_GF\":\"preference\"})[[\"left\",\"right\",\"preference\"]], template),\n",
    "    evaluate(eval_test.rename(columns={\"T4_MQ\":\"preference\"})[[\"left\",\"right\",\"preference\"]], template),\n",
    "    evaluate(eval_test.rename(columns={\"T5_NS\":\"preference\"})[[\"left\",\"right\",\"preference\"]], template)])"
   ]
  }
 ],
 "metadata": {
  "kernelspec": {
   "display_name": "Python 3 (ipykernel)",
   "language": "python",
   "name": "python3"
  },
  "language_info": {
   "codemirror_mode": {
    "name": "ipython",
    "version": 3
   },
   "file_extension": ".py",
   "mimetype": "text/x-python",
   "name": "python",
   "nbconvert_exporter": "python",
   "pygments_lexer": "ipython3",
   "version": "3.10.6"
  }
 },
 "nbformat": 4,
 "nbformat_minor": 5
}
